{
 "cells": [
  {
   "cell_type": "markdown",
   "metadata": {},
   "source": [
    "\n",
    "# Section II - Feature Selection\n",
    "\n",
    "### Filter Methods\n",
    "\n",
    "#### Part A - Correlation\n",
    "The initial data set from zillow includes a separate file for the transactions,which includes the log error of actual sales price versus Zillow estimates, and a training data set that has 52 features.  \n",
    "\n",
    "\n",
    "\n",
    "#### Part B - Ordinary Least Sqaures\n",
    "The goal of the inital exploratory analysis is to assess if there is some strange oddities with the data. We will also track to see if there any interesting trends that we could help us determine which features are important. We may also need to do certain data transformation in order to produce meanful analysis.\n",
    "\n",
    "\n"
   ]
  },
  {
   "cell_type": "markdown",
   "metadata": {},
   "source": [
    "## Part A - Finding Correlation"
   ]
  },
  {
   "cell_type": "code",
   "execution_count": null,
   "metadata": {
    "collapsed": true
   },
   "outputs": [],
   "source": [
    "#Detail correlation matrix\n",
    "corrmat = final.corr()\n",
    "f, ax = plt.subplots(figsize=(12, 9))\n",
    "sea.heatmap(corrmat, vmax=.8, square=True);\n",
    "\n",
    "\n",
    "#Another way to create heatmap with numbers\n",
    "#plt.subplots(figsize=(16,9))\n",
    "#correlation_mat = final.corr()\n",
    "#sea.heatmap(correlation_mat, annot=True)\"\""
   ]
  },
  {
   "cell_type": "markdown",
   "metadata": {},
   "source": [
    "* There is definitely correlation among the variables as well as possbile instances of multicorrelation"
   ]
  },
  {
   "cell_type": "code",
   "execution_count": null,
   "metadata": {
    "collapsed": true,
    "scrolled": false
   },
   "outputs": [],
   "source": [
    "#find top correlations\n",
    "print('Correlation with Log Error')\n",
    "print(final.corr(method='pearson').drop('logerror').sort_values('logerror', ascending=False)['logerror'].head(10))\n",
    "print('\\n')"
   ]
  },
  {
   "cell_type": "markdown",
   "metadata": {},
   "source": [
    "### 'Logerror' correlation matrix (zoomed heatmap style)"
   ]
  },
  {
   "cell_type": "code",
   "execution_count": null,
   "metadata": {
    "collapsed": true,
    "scrolled": true
   },
   "outputs": [],
   "source": [
    "#saleprice correlation matrix\n",
    "k = 10 #number of variables for heatmap\n",
    "cols = corrmat.nlargest(k, 'logerror')['logerror'].index\n",
    "cm = np.corrcoef(final[cols].values.T)\n",
    "sea.set(font_scale=1.25)\n",
    "hm = sea.heatmap(cm, cbar=True, annot=True, square=True, fmt='.2f', annot_kws={'size': 10}, yticklabels=cols.values, xticklabels=cols.values)\n",
    "plt.show()"
   ]
  },
  {
   "cell_type": "code",
   "execution_count": null,
   "metadata": {
    "collapsed": true,
    "scrolled": true
   },
   "outputs": [],
   "source": [
    "#scatterplot of top 10 highly correlated features\n",
    "sea.set()\n",
    "cols = ['logerror', 'finishedsquarefeet12', 'bathroomcnt', 'bedroomcnt', 'yearbuilt', 'structuretaxvaluedollarcnt', 'censustractandblock']\n",
    "sea.pairplot(final[cols], size = 2.5)\n",
    "plt.show();"
   ]
  },
  {
   "cell_type": "code",
   "execution_count": null,
   "metadata": {
    "collapsed": true
   },
   "outputs": [],
   "source": [
    "import statsmodels.api\n",
    "import statsmodels.formula.api as smf\n",
    "print (\"OLS regression model for the association between Logerror and bedroomcount\")\n",
    "model= smf.ols(formula='logerror ~bedroomcnt', data=final).fit()\n",
    "print(model.summary())"
   ]
  },
  {
   "cell_type": "code",
   "execution_count": null,
   "metadata": {
    "collapsed": true,
    "scrolled": true
   },
   "outputs": [],
   "source": [
    "#final[('yearbuilt'),('logerror')]\n",
    "\n",
    "top = pd.DataFrame(data=final, columns=['logerror', 'finishedsquarefeet12', 'bathroomcnt', 'bedroomcnt', 'yearbuilt', 'structuretaxvaluedollarcnt', 'censustractandblock'])\n",
    "top.head(10)"
   ]
  },
  {
   "cell_type": "code",
   "execution_count": null,
   "metadata": {
    "collapsed": true,
    "scrolled": true
   },
   "outputs": [],
   "source": [
    "top.shape"
   ]
  },
  {
   "cell_type": "code",
   "execution_count": null,
   "metadata": {
    "collapsed": true
   },
   "outputs": [],
   "source": [
    "top.to_csv('TopFeatures.csv')"
   ]
  },
  {
   "cell_type": "code",
   "execution_count": null,
   "metadata": {
    "collapsed": true
   },
   "outputs": [],
   "source": []
  },
  {
   "cell_type": "code",
   "execution_count": null,
   "metadata": {
    "collapsed": true
   },
   "outputs": [],
   "source": [
    "#standardizing data\n",
    "logerror_scaled = StandardScaler().fit_transform(final['logerror'][:,np.newaxis]);\n",
    "low_range = logerror_scaled[logerror_scaled[:,0].argsort()][:10]\n",
    "high_range= logerror_scaled[logerror_scaled[:,0].argsort()][-10:]\n",
    "print('outer range (low) of the distribution:')\n",
    "print(low_range)\n",
    "print('\\nouter range (high) of the distribution:')\n",
    "print(high_range)"
   ]
  },
  {
   "cell_type": "code",
   "execution_count": null,
   "metadata": {
    "collapsed": true
   },
   "outputs": [],
   "source": []
  },
  {
   "cell_type": "markdown",
   "metadata": {
    "collapsed": true
   },
   "source": [
    "## Part A - Ordinary Least Squares"
   ]
  },
  {
   "cell_type": "code",
   "execution_count": null,
   "metadata": {
    "collapsed": true
   },
   "outputs": [],
   "source": []
  },
  {
   "cell_type": "code",
   "execution_count": null,
   "metadata": {
    "collapsed": true
   },
   "outputs": [],
   "source": []
  },
  {
   "cell_type": "code",
   "execution_count": null,
   "metadata": {
    "collapsed": true
   },
   "outputs": [],
   "source": []
  },
  {
   "cell_type": "code",
   "execution_count": null,
   "metadata": {
    "collapsed": true
   },
   "outputs": [],
   "source": []
  },
  {
   "cell_type": "code",
   "execution_count": null,
   "metadata": {
    "collapsed": true
   },
   "outputs": [],
   "source": []
  },
  {
   "cell_type": "code",
   "execution_count": null,
   "metadata": {
    "collapsed": true
   },
   "outputs": [],
   "source": []
  },
  {
   "cell_type": "code",
   "execution_count": null,
   "metadata": {
    "collapsed": true
   },
   "outputs": [],
   "source": []
  },
  {
   "cell_type": "code",
   "execution_count": null,
   "metadata": {
    "collapsed": true
   },
   "outputs": [],
   "source": []
  },
  {
   "cell_type": "code",
   "execution_count": null,
   "metadata": {
    "collapsed": true
   },
   "outputs": [],
   "source": []
  }
 ],
 "metadata": {
  "anaconda-cloud": {},
  "kernelspec": {
   "display_name": "Python 3",
   "language": "python",
   "name": "python3"
  },
  "language_info": {
   "codemirror_mode": {
    "name": "ipython",
    "version": 3
   },
   "file_extension": ".py",
   "mimetype": "text/x-python",
   "name": "python",
   "nbconvert_exporter": "python",
   "pygments_lexer": "ipython3",
   "version": "3.5.3"
  }
 },
 "nbformat": 4,
 "nbformat_minor": 1
}

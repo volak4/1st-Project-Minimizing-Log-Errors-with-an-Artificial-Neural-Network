{
 "cells": [
  {
   "cell_type": "markdown",
   "metadata": {},
   "source": [
    "# Section IV - Artifical Neural Network\n",
    "\n",
    "### Two Hidden Layers with 6 nodes in each layer\n"
   ]
  },
  {
   "cell_type": "code",
   "execution_count": 1,
   "metadata": {
    "collapsed": true
   },
   "outputs": [],
   "source": [
    "#Import Libraries\n",
    "import numpy as np   #Mathematics library\n",
    "import matplotlib.pyplot as plt # for plotting\n",
    "import pandas as pd  #manage datasets\n",
    "import seaborn as sea\n",
    "# Dummy varies creaated, drop some features, Imputed missing data, Outliers removed\n",
    "df = pd.read_csv('FinishMissing.csv')\n",
    "df=df.drop('Unnamed: 0',axis=1)\n"
   ]
  },
  {
   "cell_type": "code",
   "execution_count": 2,
   "metadata": {
    "collapsed": true
   },
   "outputs": [],
   "source": [
    "#Drop outliers before splitting ex and y\n",
    "avg = df['logerror'].mean()\n",
    "std = df['logerror'].std()\n",
    "upper_outlier = avg + 2*std\n",
    "lower_outlier = avg - 2*std\n",
    "#round up to drop outliers, til reasonable\n",
    "df=df[ df.logerror > -0.3 ]\n",
    "df=df[ df.logerror < 0.3 ]"
   ]
  },
  {
   "cell_type": "code",
   "execution_count": 3,
   "metadata": {
    "collapsed": true
   },
   "outputs": [],
   "source": [
    "###############Create Dummy variables for Categorical data\n",
    "df=pd.get_dummies(df,columns=['taxdelinquencyflag','fireplaceflag','propertyzoningdesc','propertycountylandusecode','hashottuborspa','airconditioningtypeid','architecturalstyletypeid','buildingqualitytypeid','buildingclasstypeid','decktypeid','fips','heatingorsystemtypeid','pooltypeid10','pooltypeid2','pooltypeid7','propertylandusetypeid','regionidcounty','regionidcity','regionidzip','regionidneighborhood','storytypeid','typeconstructiontypeid','month','day'],drop_first=True)\n",
    "\n",
    "\n",
    "dataset=df"
   ]
  },
  {
   "cell_type": "code",
   "execution_count": 4,
   "metadata": {
    "collapsed": true
   },
   "outputs": [],
   "source": [
    "#split into response and features\n",
    "X = dataset.iloc[:, 2:].values\n",
    "y = dataset.iloc[:, 1].values\n"
   ]
  },
  {
   "cell_type": "code",
   "execution_count": 5,
   "metadata": {
    "collapsed": true
   },
   "outputs": [],
   "source": [
    "###################### Splitting the dataset into the Training set and Test set\n",
    "from sklearn.model_selection import train_test_split\n",
    "X_train, X_test, y_train, y_test = train_test_split(X, y, test_size = 0.2, random_state = 0)\n"
   ]
  },
  {
   "cell_type": "code",
   "execution_count": 6,
   "metadata": {
    "collapsed": true
   },
   "outputs": [],
   "source": [
    "##################### Feature Scaling required for Neural Network\n",
    "from sklearn.preprocessing import StandardScaler\n",
    "sc = StandardScaler()\n",
    "X_train = sc.fit_transform(X_train)\n",
    "X_test = sc.transform(X_test)"
   ]
  },
  {
   "cell_type": "code",
   "execution_count": 7,
   "metadata": {
    "collapsed": true
   },
   "outputs": [],
   "source": [
    "# Applying PCA * requires feature scaling\n",
    "from sklearn.decomposition import PCA\n",
    "pca = PCA(n_components = 50) # number of principal components explain variance, use '0' first\n",
    "X_train = pca.fit_transform(X_train)\n",
    "X_test = pca.transform(X_test)\n",
    "X = np.concatenate((X_train,X_test),axis=0)"
   ]
  },
  {
   "cell_type": "code",
   "execution_count": 8,
   "metadata": {},
   "outputs": [
    {
     "name": "stderr",
     "output_type": "stream",
     "text": [
      "Using TensorFlow backend.\n"
     ]
    }
   ],
   "source": [
    "########## NEURAL NETWORKS Importing the Keras libraries and packages\n",
    "import keras\n",
    "from keras.models import Sequential\n",
    "from keras.layers import Dense\n",
    "from keras.layers import Dropout"
   ]
  },
  {
   "cell_type": "code",
   "execution_count": 9,
   "metadata": {},
   "outputs": [
    {
     "name": "stderr",
     "output_type": "stream",
     "text": [
      "C:\\Users\\ceribrum\\Anaconda3\\lib\\site-packages\\ipykernel_launcher.py:5: UserWarning: Update your `Dense` call to the Keras 2 API: `Dense(input_dim=50, kernel_initializer=\"normal\", units=6, activation=\"relu\")`\n",
      "  \"\"\"\n",
      "C:\\Users\\ceribrum\\Anaconda3\\lib\\site-packages\\ipykernel_launcher.py:6: UserWarning: Update your `Dropout` call to the Keras 2 API: `Dropout(rate=0.1)`\n",
      "  \n",
      "C:\\Users\\ceribrum\\Anaconda3\\lib\\site-packages\\ipykernel_launcher.py:9: UserWarning: Update your `Dense` call to the Keras 2 API: `Dense(kernel_initializer=\"normal\", units=6, activation=\"relu\")`\n",
      "  if __name__ == '__main__':\n",
      "C:\\Users\\ceribrum\\Anaconda3\\lib\\site-packages\\ipykernel_launcher.py:10: UserWarning: Update your `Dropout` call to the Keras 2 API: `Dropout(rate=0.1)`\n",
      "  # Remove the CWD from sys.path while we load stuff.\n",
      "C:\\Users\\ceribrum\\Anaconda3\\lib\\site-packages\\ipykernel_launcher.py:13: UserWarning: Update your `Dense` call to the Keras 2 API: `Dense(kernel_initializer=\"normal\", units=1)`\n",
      "  del sys.path[0]\n"
     ]
    }
   ],
   "source": [
    "# Initialising the ANN\n",
    "model = Sequential()\n",
    "\n",
    "# Adding the input layer and the first hidden layer\n",
    "model.add(Dense(output_dim = 6, init = 'normal', activation = 'relu', input_dim = 50))\n",
    "model.add(Dropout(p=0.1))\n",
    "\n",
    "# Adding the second hidden layer\n",
    "model.add(Dense(output_dim = 6, init = 'normal', activation = 'relu'))\n",
    "model.add(Dropout(p=0.1))\n",
    "\n",
    "# Adding the output layer\n",
    "model.add(Dense(output_dim = 1, init = 'normal'))\n",
    "\"\"\"No activation function is used for the output layer because it is a regression problem\"\"\"\n",
    "\n",
    "# Compiling the ANN\n",
    "model.compile(optimizer = 'adam', loss = 'mean_squared_error')\n"
   ]
  },
  {
   "cell_type": "code",
   "execution_count": 10,
   "metadata": {},
   "outputs": [
    {
     "name": "stderr",
     "output_type": "stream",
     "text": [
      "C:\\Users\\ceribrum\\Anaconda3\\envs\\tensorflow\\Lib\\site-packages\\keras\\models.py:844: UserWarning: The `nb_epoch` argument in `fit` has been renamed `epochs`.\n",
      "  warnings.warn('The `nb_epoch` argument in `fit` '\n"
     ]
    },
    {
     "name": "stdout",
     "output_type": "stream",
     "text": [
      "Epoch 1/20\n",
      "70100/70100 [==============================] - 29s - loss: 0.0053    \n",
      "Epoch 2/20\n",
      "70100/70100 [==============================] - 28s - loss: 0.0053    \n",
      "Epoch 3/20\n",
      "70100/70100 [==============================] - 28s - loss: 0.0053    \n",
      "Epoch 4/20\n",
      "70100/70100 [==============================] - 28s - loss: 0.0053    \n",
      "Epoch 5/20\n",
      "70100/70100 [==============================] - 29s - loss: 0.0053    \n",
      "Epoch 6/20\n",
      "70100/70100 [==============================] - 29s - loss: 0.0053    \n",
      "Epoch 7/20\n",
      "70100/70100 [==============================] - 29s - loss: 0.0053    \n",
      "Epoch 8/20\n",
      "70100/70100 [==============================] - 29s - loss: 0.0053    \n",
      "Epoch 9/20\n",
      "70100/70100 [==============================] - 29s - loss: 0.0053    \n",
      "Epoch 10/20\n",
      "70100/70100 [==============================] - 29s - loss: 0.0053    \n",
      "Epoch 11/20\n",
      "70100/70100 [==============================] - 31s - loss: 0.0053    \n",
      "Epoch 12/20\n",
      "70100/70100 [==============================] - 30s - loss: 0.0053    \n",
      "Epoch 13/20\n",
      "70100/70100 [==============================] - 30s - loss: 0.0053    \n",
      "Epoch 14/20\n",
      "70100/70100 [==============================] - 29s - loss: 0.0053    \n",
      "Epoch 15/20\n",
      "70100/70100 [==============================] - 30s - loss: 0.0053    \n",
      "Epoch 16/20\n",
      "70100/70100 [==============================] - 29s - loss: 0.0053    \n",
      "Epoch 17/20\n",
      "70100/70100 [==============================] - 43s - loss: 0.0053    \n",
      "Epoch 18/20\n",
      "70100/70100 [==============================] - 248s - loss: 0.0053   \n",
      "Epoch 19/20\n",
      "70100/70100 [==============================] - 229s - loss: 0.0053   \n",
      "Epoch 20/20\n",
      "70100/70100 [==============================] - 192s - loss: 0.0053   \n"
     ]
    },
    {
     "data": {
      "text/plain": [
       "<keras.callbacks.History at 0x1e392c88>"
      ]
     },
     "execution_count": 10,
     "metadata": {},
     "output_type": "execute_result"
    }
   ],
   "source": [
    "# Fitting the ANN to the Training set\n",
    "model.fit(X_train, y_train, batch_size = 10, nb_epoch = 20)\n"
   ]
  },
  {
   "cell_type": "code",
   "execution_count": 11,
   "metadata": {
    "collapsed": true
   },
   "outputs": [],
   "source": [
    "# Predicting the Test set results\n",
    "y_pred = model.predict(X_test)\n"
   ]
  },
  {
   "cell_type": "code",
   "execution_count": 13,
   "metadata": {},
   "outputs": [
    {
     "name": "stdout",
     "output_type": "stream",
     "text": [
      "0.00525901863364\n",
      "0.0725190915114\n"
     ]
    }
   ],
   "source": [
    "# Mean Square Error & ROOT RMSE\n",
    "from sklearn.metrics import mean_squared_error\n",
    "mse = mean_squared_error(y_test, y_pred, sample_weight=None, multioutput='uniform_average')\n",
    "print(mse)\n",
    "rmse = np.sqrt(mse)\n",
    "print(rmse)"
   ]
  },
  {
   "cell_type": "code",
   "execution_count": null,
   "metadata": {
    "collapsed": true
   },
   "outputs": [],
   "source": []
  }
 ],
 "metadata": {
  "kernelspec": {
   "display_name": "Python 3",
   "language": "python",
   "name": "python3"
  },
  "language_info": {
   "codemirror_mode": {
    "name": "ipython",
    "version": 3
   },
   "file_extension": ".py",
   "mimetype": "text/x-python",
   "name": "python",
   "nbconvert_exporter": "python",
   "pygments_lexer": "ipython3",
   "version": "3.5.3"
  }
 },
 "nbformat": 4,
 "nbformat_minor": 2
}

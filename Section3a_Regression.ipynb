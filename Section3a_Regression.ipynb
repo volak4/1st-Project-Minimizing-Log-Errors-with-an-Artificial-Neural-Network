{
 "cells": [
  {
   "cell_type": "markdown",
   "metadata": {},
   "source": [
    "\n",
    "# Section III a - Feature Extraction and Linear Regression\n",
    "\n",
    "### Filter Methods\n",
    "\n",
    "#### Part A -  Feature Extraction\n",
    "The following feature extraction stragetices are common to performing data science. For this project, Principal Component Analysis was successful performed while Linear Discriminant Analysis and Kernal PCA required a more powerful CPU. Even though the project was run on a fairly power desktop with the GPU being utilized, these two feature extraction technique does not utilize the processing power of the GPU and therefore resulted in memory errors.   \n",
    "\n",
    "* **Principal Component Analysis** — In PCA, new independent variables are extracted from the dataset that explain the most variance. It does so without needing analyzing the dependent variable. This is an unsupervised model. A common strategy is to reduce the number of principal components to just two and visualize the data. Even though we need to reduce our number of features, we do not use PCA for this analysis. Instead we will use Linear Discriminant Analysis. Since Logistic Regressions require a linear discriminant built into their function. We ran PCA with 10, 20, and 50 principal components. \n",
    "\n",
    "* **Linear Discriminat Analysis** — Unlike the PCA, which extracts features that explain the most variance, LDA extracts new independent variables that separate the most classes of dependent variable. Since the dependent variable is considered, LDA is a supervised dimensionality reduction model. We keep on getting memory errors when running a Linear Discriminant Analysis on the full dataset. The algortihm was reviously tested on a slice of the data which performed properly.\n",
    "\n",
    "* **Kernal PCA** — The previous two feature extraction techniques works for models that are linearly separatable. Kernal PCA can be used for non linearly separateable data. It is kernealized version of PCA where we map the data into a higher dimension using the kernal trick and from there we extract new principal components. Because of the higher dimensionality, we ran into memory errors. \n",
    "\n",
    "#### Part B -  Multiple Linear Regression\n",
    "Multipe Linear Regressions are an extension of Linear regressions. We use the multiple linear regression as our baseline model to compare the other regression models. Ideally, we would like to feed our entire list of features into our multiple regression model, but due to computational constraints we will only feed it the principal components we selected from earlier.   \n",
    "\n",
    "Pros: Multiple Linear Regressions works on all dataset sizes and also gives interpretable results. \n",
    "\n",
    "Cons: Certain assumptions must be met in order for results to have any meaning and can easily be biased by outliers.  "
   ]
  },
  {
   "cell_type": "code",
   "execution_count": 1,
   "metadata": {
    "collapsed": true
   },
   "outputs": [],
   "source": [
    "import numpy as np   #Mathematics library\n",
    "import matplotlib.pyplot as plt # for plotting\n",
    "import pandas as pd  #manage datasets\n",
    "import seaborn as sea"
   ]
  },
  {
   "cell_type": "markdown",
   "metadata": {
    "collapsed": true
   },
   "source": [
    "The FinishMissing.csv file is an output from the missing data appendix where every feature had a speicif strategy to deal with the missing values"
   ]
  },
  {
   "cell_type": "code",
   "execution_count": 2,
   "metadata": {},
   "outputs": [
    {
     "data": {
      "text/plain": [
       "(90811, 52)"
      ]
     },
     "execution_count": 2,
     "metadata": {},
     "output_type": "execute_result"
    }
   ],
   "source": [
    "# Import the csv file created from our data wrangling.\n",
    "df = pd.read_csv('FinishMissing.csv')\n",
    "df=df.drop('Unnamed: 0',axis=1)\n",
    "df.shape"
   ]
  },
  {
   "cell_type": "markdown",
   "metadata": {},
   "source": [
    "#### Outliers\n",
    "Outliers can cause high bias into our model. For our model, we will drop outliers. In this case, we will define an outlier as any value that is two standard deviation away from the mean. "
   ]
  },
  {
   "cell_type": "code",
   "execution_count": 3,
   "metadata": {},
   "outputs": [
    {
     "name": "stdout",
     "output_type": "stream",
     "text": [
      "upper 0.3373916901448827\n",
      "-0.31575874699922946\n",
      "0.16328760928602803\n",
      "0.01081647157282662\n"
     ]
    }
   ],
   "source": [
    "#Drop outliers before splitting ex and y\n",
    "avg = df['logerror'].mean()\n",
    "std = df['logerror'].std()\n",
    "upper_outlier = avg + 2*std\n",
    "lower_outlier = avg - 2*std\n",
    "print('upper', upper_outlier)\n",
    "print(lower_outlier)\n",
    "print(std)\n",
    "print(avg)\n",
    "#round up to drop outliers, til reasonable\n",
    "df=df[ df.logerror > -0.32 ]\n",
    "df=df[ df.logerror < 0.34 ]"
   ]
  },
  {
   "cell_type": "code",
   "execution_count": 4,
   "metadata": {},
   "outputs": [
    {
     "data": {
      "text/plain": [
       "(88113, 52)"
      ]
     },
     "execution_count": 4,
     "metadata": {},
     "output_type": "execute_result"
    }
   ],
   "source": [
    "df.shape"
   ]
  },
  {
   "cell_type": "markdown",
   "metadata": {},
   "source": [
    "#### Dummy Variables\n",
    "A Dummy variable or Indicator Variable is an artificial variable created to represent an attribute with two or more distinct categories/levels. The panda \"get_dummies\" below creates as many dummy variables that is needed for specific feature. It also automatically drops the original feature as well as avoids the dummy variable trap by dropping the first category of that feature. "
   ]
  },
  {
   "cell_type": "code",
   "execution_count": 5,
   "metadata": {
    "collapsed": true
   },
   "outputs": [],
   "source": [
    "###############Create Dummy variables for Categorical data\n",
    "df=pd.get_dummies(df,columns=['taxdelinquencyflag','fireplaceflag','propertyzoningdesc','propertycountylandusecode','hashottuborspa','airconditioningtypeid','architecturalstyletypeid','buildingqualitytypeid','buildingclasstypeid','decktypeid','fips','heatingorsystemtypeid','pooltypeid10','pooltypeid2','pooltypeid7','propertylandusetypeid','regionidcounty','regionidcity','regionidzip','regionidneighborhood','storytypeid','typeconstructiontypeid','month','day'],drop_first=True)\n",
    "\n",
    "#Change dataframe name to help check track of major changes to dataset\n",
    "dataset=df"
   ]
  },
  {
   "cell_type": "code",
   "execution_count": 6,
   "metadata": {
    "collapsed": true
   },
   "outputs": [],
   "source": [
    "#split into response and features\n",
    "X = dataset.iloc[:, 2:].values\n",
    "y = dataset.iloc[:,1].values\n"
   ]
  },
  {
   "cell_type": "markdown",
   "metadata": {},
   "source": [
    "### Train / Test Split\n",
    "Andrew Ng, former head of Google's A.I, believes that size of the test set should be enough to give a high confidence. If we had 1 million instances, a 2% test split would be sufficient. We have approximately ~72,000 instances so we will stay closer to the more standard split and set aside 25% of the data to our test set. "
   ]
  },
  {
   "cell_type": "code",
   "execution_count": 7,
   "metadata": {
    "collapsed": true
   },
   "outputs": [],
   "source": [
    "###################### Splitting the dataset into the Training set and Test set\n",
    "from sklearn.model_selection import train_test_split\n",
    "X_train, X_test, y_train, y_test = train_test_split(X, y, test_size = 0.2, random_state = 0)\n"
   ]
  },
  {
   "cell_type": "markdown",
   "metadata": {},
   "source": [
    "### Feature Scaling\n",
    "Feature scaling helps future algoritms run faster. Some algorithms require feature scaling while the logistic regression does not. Depending on the size of the dataset, we may not need to feature scale. Feature scaling makes our model less interpretable, although we can inverse transform to return to our original scale. "
   ]
  },
  {
   "cell_type": "code",
   "execution_count": 8,
   "metadata": {
    "collapsed": true
   },
   "outputs": [],
   "source": [
    "##################### Feature Scaling required for Neural Network & Feature Extraction\n",
    "from sklearn.preprocessing import StandardScaler\n",
    "sc = StandardScaler()\n",
    "X_train = sc.fit_transform(X_train)\n",
    "X_test = sc.transform(X_test)\n",
    "\n"
   ]
  },
  {
   "cell_type": "markdown",
   "metadata": {},
   "source": [
    "## Part A: Feature Extraction,  PCA (n=10)"
   ]
  },
  {
   "cell_type": "markdown",
   "metadata": {},
   "source": [
    "#### Principal Component Analysis (PCA)\n",
    "In PCA, new independent variables are extracted from the dataset that explain the most variance. It does so without needing analyzing the dependent variable. This is an unsupervised model. A common strategy is to reduce the number of principal components to just two and visualize the data. Even though we need to reduce our number of features, we do not use PCA for this analysis. Instead we will use Linear Discriminant Analysis. Since Logistic Regressions require a linear discriminant built into their function. "
   ]
  },
  {
   "cell_type": "code",
   "execution_count": 9,
   "metadata": {
    "collapsed": true
   },
   "outputs": [],
   "source": [
    "##### DIMENSIONALITY REDUCTION : PRINCIPAL COMPONENT ANALYSIS(PCA)\n",
    "# Applying PCA * requires feature scaling\n",
    "from sklearn.decomposition import PCA\n",
    "pca = PCA(n_components = 10) # number of principal components explain variance, use '0' first\n",
    "X_train = pca.fit_transform(X_train)\n",
    "X_test = pca.transform(X_test)\n",
    "X = np.concatenate((X_train,X_test),axis=0)"
   ]
  },
  {
   "cell_type": "markdown",
   "metadata": {},
   "source": [
    "## Part B:  Multiple Linear Regression\n",
    "Multipe Linear Regressions are an extension of Linear regressions. As such, there are assumptions that must be satisfied before a linear regression can be used. These assumptions are Linearity, Homoscedasticity, Multivariate normality, Independence of errors, Lack of Multicollinearity. "
   ]
  },
  {
   "cell_type": "code",
   "execution_count": 5,
   "metadata": {},
   "outputs": [
    {
     "data": {
      "image/jpeg": "[encoded data removed]",
      "text/plain": [
       "<IPython.core.display.Image object>"
      ]
     },
     "execution_count": 5,
     "metadata": {
      "image/jpeg": {
       "width": 500
      }
     },
     "output_type": "execute_result"
    }
   ],
   "source": [
    "from IPython.display import Image\n",
    "Image(filename='./images/a1.jpg', width=500)\n",
    "# Image source @superdatascience.com"
   ]
  },
  {
   "cell_type": "code",
   "execution_count": 10,
   "metadata": {},
   "outputs": [
    {
     "data": {
      "text/plain": [
       "0.0068905364423211928"
      ]
     },
     "execution_count": 10,
     "metadata": {},
     "output_type": "execute_result"
    }
   ],
   "source": [
    "#############from sklearn.linear_model import LinearRegression\n",
    "from sklearn.linear_model import LinearRegression\n",
    "regressor = LinearRegression()\n",
    "regressor.fit(X_train, y_train)\n",
    "# Predicting the Test set results\n",
    "y_pred = regressor.predict(X_test)\n",
    "y_pred.mean()"
   ]
  },
  {
   "cell_type": "code",
   "execution_count": 11,
   "metadata": {},
   "outputs": [
    {
     "name": "stdout",
     "output_type": "stream",
     "text": [
      "0.00580271744083\n",
      "0.0761755698425\n"
     ]
    }
   ],
   "source": [
    "########### MEAN SQUARED ERROR\n",
    "\n",
    "# Mean Square Error Train/Test Splt\n",
    "from sklearn.metrics import mean_squared_error\n",
    "mse = mean_squared_error(y_test, y_pred, sample_weight=None, multioutput='uniform_average')\n",
    "print(mse)\n",
    "rmse = np.sqrt(mse)\n",
    "print(rmse)\n"
   ]
  },
  {
   "cell_type": "markdown",
   "metadata": {},
   "source": [
    "### k-Fold Cross Validation\n",
    "Sometimes we run into the variance problem. The variance problem occurs when we rerun our models again but recieve a different accrucay than our previous model. The k -fold solves this problem by splitting our training and test set into many folds; ten being the most common split. "
   ]
  },
  {
   "cell_type": "code",
   "execution_count": 3,
   "metadata": {},
   "outputs": [
    {
     "data": {
      "image/jpeg": "[encoded data removed]",
      "text/plain": [
       "<IPython.core.display.Image object>"
      ]
     },
     "execution_count": 3,
     "metadata": {
      "image/jpeg": {
       "width": 500
      }
     },
     "output_type": "execute_result"
    }
   ],
   "source": [
    "from IPython.display import Image\n",
    "Image(filename='./images/03.jpg', width=500)\n",
    "# Image source @superdatascience.com"
   ]
  },
  {
   "cell_type": "code",
   "execution_count": 12,
   "metadata": {},
   "outputs": [
    {
     "name": "stderr",
     "output_type": "stream",
     "text": [
      "C:\\Users\\ceribrum\\Anaconda3\\lib\\site-packages\\sklearn\\cross_validation.py:44: DeprecationWarning: This module was deprecated in version 0.18 in favor of the model_selection module into which all the refactored classes and functions are moved. Also note that the interface of the new CV iterators are different from that of this module. This module will be removed in 0.20.\n",
      "  \"This module will be removed in 0.20.\", DeprecationWarning)\n"
     ]
    },
    {
     "name": "stdout",
     "output_type": "stream",
     "text": [
      "0.00580476773241\n",
      "0.0761890263254\n"
     ]
    }
   ],
   "source": [
    "# 10-fold cross-validation with all three features\n",
    "###For Feature Extraction Run codes below before cross validation\n",
    "\n",
    "from sklearn.cross_validation import cross_val_score\n",
    "scores = cross_val_score(regressor, X, y, cv=10, scoring='neg_mean_squared_error')\n",
    "mse_scores = -scores\n",
    "# calculate the average MSE\n",
    "print(mse_scores.mean())\n",
    "rmse_kfold = np.sqrt(mse_scores.mean())\n",
    "print(rmse_kfold)"
   ]
  },
  {
   "cell_type": "markdown",
   "metadata": {},
   "source": [
    "## (repeat) Part A: Feature Extraction ,  PCA (n=20)"
   ]
  },
  {
   "cell_type": "code",
   "execution_count": 13,
   "metadata": {
    "collapsed": true
   },
   "outputs": [],
   "source": [
    "#Change dataframe name to help check track of major changes to dataset\n",
    "dataset=df"
   ]
  },
  {
   "cell_type": "code",
   "execution_count": 14,
   "metadata": {
    "collapsed": true
   },
   "outputs": [],
   "source": [
    "#split into response and features\n",
    "X = dataset.iloc[:, 2:].values\n",
    "y = dataset.iloc[:,1].values\n"
   ]
  },
  {
   "cell_type": "code",
   "execution_count": 15,
   "metadata": {
    "collapsed": true
   },
   "outputs": [],
   "source": [
    "###################### Splitting the dataset into the Training set and Test set\n",
    "from sklearn.model_selection import train_test_split\n",
    "X_train, X_test, y_train, y_test = train_test_split(X, y, test_size = 0.2, random_state = 0)\n"
   ]
  },
  {
   "cell_type": "code",
   "execution_count": 16,
   "metadata": {
    "collapsed": true
   },
   "outputs": [],
   "source": [
    "##################### Feature Scaling required for Neural Network & Feature Extraction\n",
    "from sklearn.preprocessing import StandardScaler\n",
    "sc = StandardScaler()\n",
    "X_train = sc.fit_transform(X_train)\n",
    "X_test = sc.transform(X_test)\n",
    "\n"
   ]
  },
  {
   "cell_type": "code",
   "execution_count": 17,
   "metadata": {
    "collapsed": true
   },
   "outputs": [],
   "source": [
    "##### DIMENSIONALITY REDUCTION : PRINCIPAL COMPONENT ANALYSIS(PCA)\n",
    "# Applying PCA * requires feature scaling\n",
    "from sklearn.decomposition import PCA\n",
    "pca = PCA(n_components = 20) # number of principal components explain variance, use '0' first\n",
    "X_train = pca.fit_transform(X_train)\n",
    "X_test = pca.transform(X_test)\n",
    "X = np.concatenate((X_train,X_test),axis=0)"
   ]
  },
  {
   "cell_type": "markdown",
   "metadata": {},
   "source": [
    " ## (repeat) Part B:  Multiple Linear Regression\n"
   ]
  },
  {
   "cell_type": "code",
   "execution_count": 18,
   "metadata": {},
   "outputs": [
    {
     "data": {
      "text/plain": [
       "0.0068865298194490847"
      ]
     },
     "execution_count": 18,
     "metadata": {},
     "output_type": "execute_result"
    }
   ],
   "source": [
    "#############from sklearn.linear_model import LinearRegression\n",
    "from sklearn.linear_model import LinearRegression\n",
    "regressor = LinearRegression()\n",
    "regressor.fit(X_train, y_train)\n",
    "# Predicting the Test set results\n",
    "y_pred = regressor.predict(X_test)\n",
    "y_pred.mean()"
   ]
  },
  {
   "cell_type": "code",
   "execution_count": 19,
   "metadata": {},
   "outputs": [
    {
     "name": "stdout",
     "output_type": "stream",
     "text": [
      "0.00579823774621\n",
      "0.0761461604167\n"
     ]
    }
   ],
   "source": [
    "########### MEAN SQUARED ERROR\n",
    "\n",
    "# Mean Square Error Train/Test Splt\n",
    "from sklearn.metrics import mean_squared_error\n",
    "mse = mean_squared_error(y_test, y_pred, sample_weight=None, multioutput='uniform_average')\n",
    "print(mse)\n",
    "rmse = np.sqrt(mse)\n",
    "print(rmse)\n"
   ]
  },
  {
   "cell_type": "code",
   "execution_count": 20,
   "metadata": {},
   "outputs": [
    {
     "name": "stdout",
     "output_type": "stream",
     "text": [
      "0.00580513085919\n",
      "0.076191409353\n"
     ]
    }
   ],
   "source": [
    "# 10-fold cross-validation with all three features\n",
    "###For Feature Extraction Run codes below before cross validation\n",
    "\n",
    "from sklearn.cross_validation import cross_val_score\n",
    "scores = cross_val_score(regressor, X, y, cv=10, scoring='neg_mean_squared_error')\n",
    "mse_scores = -scores\n",
    "# calculate the average MSE\n",
    "print(mse_scores.mean())\n",
    "rmse_kfold = np.sqrt(mse_scores.mean())\n",
    "print(rmse_kfold)"
   ]
  },
  {
   "cell_type": "markdown",
   "metadata": {},
   "source": [
    "## (repeat) Part A: Feature Extraction, , PCA (n=50)"
   ]
  },
  {
   "cell_type": "code",
   "execution_count": 21,
   "metadata": {
    "collapsed": true
   },
   "outputs": [],
   "source": [
    "#Change dataframe name to help check track of major changes to dataset\n",
    "dataset=df"
   ]
  },
  {
   "cell_type": "code",
   "execution_count": 22,
   "metadata": {
    "collapsed": true
   },
   "outputs": [],
   "source": [
    "#split into response and features\n",
    "X = dataset.iloc[:, 2:].values\n",
    "y = dataset.iloc[:,1].values\n"
   ]
  },
  {
   "cell_type": "code",
   "execution_count": 23,
   "metadata": {
    "collapsed": true
   },
   "outputs": [],
   "source": [
    "###################### Splitting the dataset into the Training set and Test set\n",
    "from sklearn.model_selection import train_test_split\n",
    "X_train, X_test, y_train, y_test = train_test_split(X, y, test_size = 0.2, random_state = 0)\n"
   ]
  },
  {
   "cell_type": "code",
   "execution_count": 24,
   "metadata": {
    "collapsed": true
   },
   "outputs": [],
   "source": [
    "##################### Feature Scaling required for Neural Network & Feature Extraction\n",
    "from sklearn.preprocessing import StandardScaler\n",
    "sc = StandardScaler()\n",
    "X_train = sc.fit_transform(X_train)\n",
    "X_test = sc.transform(X_test)\n",
    "\n"
   ]
  },
  {
   "cell_type": "code",
   "execution_count": 25,
   "metadata": {
    "collapsed": true
   },
   "outputs": [],
   "source": [
    "##### DIMENSIONALITY REDUCTION : PRINCIPAL COMPONENT ANALYSIS(PCA)\n",
    "# Applying PCA * requires feature scaling\n",
    "from sklearn.decomposition import PCA\n",
    "pca = PCA(n_components = 50) # number of principal components explain variance, use '0' first\n",
    "X_train = pca.fit_transform(X_train)\n",
    "X_test = pca.transform(X_test)\n",
    "X = np.concatenate((X_train,X_test),axis=0)"
   ]
  },
  {
   "cell_type": "markdown",
   "metadata": {},
   "source": [
    "## (repeat) Part B:  Multiple Linear Regression\n"
   ]
  },
  {
   "cell_type": "code",
   "execution_count": 26,
   "metadata": {},
   "outputs": [
    {
     "data": {
      "text/plain": [
       "0.0068824697128085045"
      ]
     },
     "execution_count": 26,
     "metadata": {},
     "output_type": "execute_result"
    }
   ],
   "source": [
    "#############from sklearn.linear_model import LinearRegression\n",
    "from sklearn.linear_model import LinearRegression\n",
    "regressor = LinearRegression()\n",
    "regressor.fit(X_train, y_train)\n",
    "# Predicting the Test set results\n",
    "y_pred = regressor.predict(X_test)\n",
    "y_pred.mean()"
   ]
  },
  {
   "cell_type": "code",
   "execution_count": 27,
   "metadata": {},
   "outputs": [
    {
     "name": "stdout",
     "output_type": "stream",
     "text": [
      "0.0057947743086\n",
      "0.0761234149825\n"
     ]
    }
   ],
   "source": [
    "########### MEAN SQUARED ERROR\n",
    "\n",
    "# Mean Square Error Train/Test Splt\n",
    "from sklearn.metrics import mean_squared_error\n",
    "mse = mean_squared_error(y_test, y_pred, sample_weight=None, multioutput='uniform_average')\n",
    "print(mse)\n",
    "rmse = np.sqrt(mse)\n",
    "print(rmse)\n"
   ]
  },
  {
   "cell_type": "code",
   "execution_count": 28,
   "metadata": {},
   "outputs": [
    {
     "name": "stdout",
     "output_type": "stream",
     "text": [
      "0.00580627280677\n",
      "0.0761989029237\n"
     ]
    }
   ],
   "source": [
    "# 10-fold cross-validation with all three features\n",
    "###For Feature Extraction Run codes below before cross validation\n",
    "\n",
    "from sklearn.cross_validation import cross_val_score\n",
    "scores = cross_val_score(regressor, X, y, cv=10, scoring='neg_mean_squared_error')\n",
    "mse_scores = -scores\n",
    "# calculate the average MSE\n",
    "print(mse_scores.mean())\n",
    "rmse_kfold = np.sqrt(mse_scores.mean())\n",
    "print(rmse_kfold)"
   ]
  },
  {
   "cell_type": "code",
   "execution_count": null,
   "metadata": {
    "collapsed": true
   },
   "outputs": [],
   "source": []
  },
  {
   "cell_type": "code",
   "execution_count": null,
   "metadata": {
    "collapsed": true
   },
   "outputs": [],
   "source": []
  },
  {
   "cell_type": "code",
   "execution_count": null,
   "metadata": {
    "collapsed": true
   },
   "outputs": [],
   "source": []
  },
  {
   "cell_type": "code",
   "execution_count": null,
   "metadata": {
    "collapsed": true
   },
   "outputs": [],
   "source": []
  },
  {
   "cell_type": "code",
   "execution_count": null,
   "metadata": {
    "collapsed": true
   },
   "outputs": [],
   "source": []
  },
  {
   "cell_type": "code",
   "execution_count": null,
   "metadata": {
    "collapsed": true
   },
   "outputs": [],
   "source": []
  }
 ],
 "metadata": {
  "kernelspec": {
   "display_name": "Python 3",
   "language": "python",
   "name": "python3"
  },
  "language_info": {
   "codemirror_mode": {
    "name": "ipython",
    "version": 3
   },
   "file_extension": ".py",
   "mimetype": "text/x-python",
   "name": "python",
   "nbconvert_exporter": "python",
   "pygments_lexer": "ipython3",
   "version": "3.5.3"
  }
 },
 "nbformat": 4,
 "nbformat_minor": 2
}
